{
  "nbformat": 4,
  "nbformat_minor": 0,
  "metadata": {
    "colab": {
      "name": "010.ipynb",
      "provenance": [],
      "authorship_tag": "ABX9TyPlIbLPg2QfUg13vzRCy3Ey",
      "include_colab_link": true
    },
    "kernelspec": {
      "name": "python3",
      "display_name": "Python 3"
    },
    "language_info": {
      "name": "python"
    }
  },
  "cells": [
    {
      "cell_type": "markdown",
      "metadata": {
        "id": "view-in-github",
        "colab_type": "text"
      },
      "source": [
        "<a href=\"https://colab.research.google.com/github/pliniodester/project_euler/blob/main/010.ipynb\" target=\"_parent\"><img src=\"https://colab.research.google.com/assets/colab-badge.svg\" alt=\"Open In Colab\"/></a>"
      ]
    },
    {
      "cell_type": "markdown",
      "source": [
        "### **Problem 10 - Summation of primes**\n",
        "\n",
        "The sum of the primes below $10$ is $2 + 3 + 5 + 7 = 17$.\n",
        "\n",
        "Find the sum of all the primes below two million."
      ],
      "metadata": {
        "id": "wNDfOF0UQLQA"
      }
    },
    {
      "cell_type": "code",
      "execution_count": 8,
      "metadata": {
        "id": "M5MevjGnV9yq"
      },
      "outputs": [],
      "source": [
        "# Find the next prime from a list of primes\n",
        "def find_next_prime(primes):\n",
        "  n = primes[-1]+2\n",
        "  while True:\n",
        "    flag = 0\n",
        "    for p in primes:\n",
        "      if n%p==0:\n",
        "        flag = 1\n",
        "        break\n",
        "      if p*p > n:\n",
        "        flag = 0\n",
        "        break\n",
        "    if flag == 0:\n",
        "      return n\n",
        "    else:\n",
        "      n += 2"
      ]
    },
    {
      "cell_type": "code",
      "source": [
        "primes = [2]\n",
        "sum = 2\n",
        "p = 3\n",
        "while p < 2000000:\n",
        "  sum += p\n",
        "  primes.append(p)\n",
        "  p = find_next_prime(primes)\n",
        "print(sum)"
      ],
      "metadata": {
        "colab": {
          "base_uri": "https://localhost:8080/"
        },
        "id": "J9LdmkdYYUPE",
        "outputId": "b7245c86-d2f0-4863-f8fb-6516d573a7d9"
      },
      "execution_count": 10,
      "outputs": [
        {
          "output_type": "stream",
          "name": "stdout",
          "text": [
            "142913828922\n"
          ]
        }
      ]
    }
  ]
}