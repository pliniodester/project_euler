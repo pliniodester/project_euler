{
  "nbformat": 4,
  "nbformat_minor": 0,
  "metadata": {
    "colab": {
      "name": "003.ipynb",
      "provenance": [],
      "authorship_tag": "ABX9TyOYPYKIcdZtciZkc+HhsnH6",
      "include_colab_link": true
    },
    "kernelspec": {
      "name": "python3",
      "display_name": "Python 3"
    },
    "language_info": {
      "name": "python"
    }
  },
  "cells": [
    {
      "cell_type": "markdown",
      "metadata": {
        "id": "view-in-github",
        "colab_type": "text"
      },
      "source": [
        "<a href=\"https://colab.research.google.com/github/pliniodester/project_euler/blob/main/003.ipynb\" target=\"_parent\"><img src=\"https://colab.research.google.com/assets/colab-badge.svg\" alt=\"Open In Colab\"/></a>"
      ]
    },
    {
      "cell_type": "markdown",
      "source": [
        "### **Problem 3 - Largest prime factor**\n",
        "\n",
        "The prime factors of 13195 are 5, 7, 13 and 29.\n",
        "\n",
        "What is the largest prime factor of the number 600851475143 ?"
      ],
      "metadata": {
        "id": "wNDfOF0UQLQA"
      }
    },
    {
      "cell_type": "code",
      "execution_count": 2,
      "metadata": {
        "id": "4QFKKh1gQIub"
      },
      "outputs": [],
      "source": [
        "def divisor(n,div):\n",
        "  # find a divisor for n starting from div\n",
        "  while n%div > 0:\n",
        "    div+=1\n",
        "  return div"
      ]
    },
    {
      "cell_type": "code",
      "source": [
        "N = 600851475143\n",
        "div = 2\n",
        "while N != 1:\n",
        "  div = divisor(N,div)\n",
        "  N = N/div\n",
        "print(div)"
      ],
      "metadata": {
        "colab": {
          "base_uri": "https://localhost:8080/"
        },
        "id": "5hyv6UlnTQfH",
        "outputId": "68b8dd46-1483-4477-eacc-89cf75467bb3"
      },
      "execution_count": 3,
      "outputs": [
        {
          "output_type": "stream",
          "name": "stdout",
          "text": [
            "6857\n"
          ]
        }
      ]
    }
  ]
}