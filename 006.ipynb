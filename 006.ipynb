{
  "nbformat": 4,
  "nbformat_minor": 0,
  "metadata": {
    "colab": {
      "name": "006.ipynb",
      "provenance": [],
      "authorship_tag": "ABX9TyP52KVwvuthzTuKKr2G7g9C",
      "include_colab_link": true
    },
    "kernelspec": {
      "name": "python3",
      "display_name": "Python 3"
    },
    "language_info": {
      "name": "python"
    }
  },
  "cells": [
    {
      "cell_type": "markdown",
      "metadata": {
        "id": "view-in-github",
        "colab_type": "text"
      },
      "source": [
        "<a href=\"https://colab.research.google.com/github/pliniodester/project_euler/blob/main/006.ipynb\" target=\"_parent\"><img src=\"https://colab.research.google.com/assets/colab-badge.svg\" alt=\"Open In Colab\"/></a>"
      ]
    },
    {
      "cell_type": "markdown",
      "source": [
        "### **Problem 6 - Sum square difference**\n",
        "\n",
        "The sum of the squares of the first ten natural numbers is\n",
        "$$1^2 + 2^2 + \\dots + 10^2 = 385.$$\n",
        "\n",
        "The square of the sum of the first ten natural numbers is\n",
        "$$(1 + 2 + \\dots + 10)^2 = 3025.$$\n",
        "\n",
        "Hence the difference between the sum of the squares of the first ten natural numbers and the square of the sum is $3025-385 = 2640$.\n",
        "\n",
        "Find the difference between the sum of the squares of the first one hundred natural numbers and the square of the sum."
      ],
      "metadata": {
        "id": "wNDfOF0UQLQA"
      }
    },
    {
      "cell_type": "markdown",
      "source": [
        "### **Solution**\n",
        "\n",
        "We know that\n",
        "$$\\sum_{k=1}^n k = \\frac{n(n+1)}{2}$$\n",
        "\n",
        "Also,\n",
        "$$\\sum_{k=1}^n k^2 = \\frac{n(n+1)(2n+1)}{6}$$\n",
        "\n",
        "Thus,\n",
        "$$\\left(\\sum_{k=1}^n k\\right)^2 - \\sum_{k=1}^n k^2 = \\frac{n^2(n+1)^2}{4} - \\frac{n(n+1)(2n+1)}{6} = \\frac{n(n^2-1)(3n+2)}{12}.$$"
      ],
      "metadata": {
        "id": "REwHo4tRW7UI"
      }
    },
    {
      "cell_type": "code",
      "execution_count": 3,
      "metadata": {
        "colab": {
          "base_uri": "https://localhost:8080/"
        },
        "id": "9PuPjMRUWeOz",
        "outputId": "6c462dd1-4657-4d6f-ce67-537abce7b7b1"
      },
      "outputs": [
        {
          "output_type": "stream",
          "name": "stdout",
          "text": [
            "25164150\n"
          ]
        }
      ],
      "source": [
        "N = 100\n",
        "print(int(N*(N*N-1)*(3*N+2)/12))"
      ]
    }
  ]
}