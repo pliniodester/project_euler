{
  "nbformat": 4,
  "nbformat_minor": 0,
  "metadata": {
    "colab": {
      "name": "009.ipynb",
      "provenance": [],
      "authorship_tag": "ABX9TyPhlnAkjIZtlDh53KXhPSjt",
      "include_colab_link": true
    },
    "kernelspec": {
      "name": "python3",
      "display_name": "Python 3"
    },
    "language_info": {
      "name": "python"
    }
  },
  "cells": [
    {
      "cell_type": "markdown",
      "metadata": {
        "id": "view-in-github",
        "colab_type": "text"
      },
      "source": [
        "<a href=\"https://colab.research.google.com/github/pliniodester/project_euler/blob/main/009.ipynb\" target=\"_parent\"><img src=\"https://colab.research.google.com/assets/colab-badge.svg\" alt=\"Open In Colab\"/></a>"
      ]
    },
    {
      "cell_type": "markdown",
      "source": [
        "### **Problem 9 - Special Pythagorean triplet**\n",
        "\n",
        "A Pythagorean triplet is a set of three natural numbers, $a < b < c$, for which,\n",
        "\n",
        "$$a^2 + b^2 = c^2.$$\n",
        "\n",
        "For example, $3^2 + 4^2 = 9 + 16 = 25 = 5^2$.\n",
        "\n",
        "There exists exactly one Pythagorean triplet for which $a + b + c = N$, where $N=1000$.\n",
        "\n",
        "Find the product $abc$."
      ],
      "metadata": {
        "id": "wNDfOF0UQLQA"
      }
    },
    {
      "cell_type": "markdown",
      "source": [
        "### **Solution**\n",
        "\n",
        "For $a < b < c < N$, we have $a+b+c = N$ if and only if\n",
        "\n",
        "$$(a+b)^2 = (N-c)^2.$$\n",
        "\n",
        "Furthermore, if $a^2+b^2=c^2$, then the above expression simplifies to\n",
        "\n",
        "$$2(ab+Nc) = N^2.$$\n",
        "\n",
        "Therefore, the above expression holding is a **necessary**, but not **sufficient** condition to satisfy our problem.\n",
        "\n",
        "Using again that $a+b+c = N$ in the necessary condition and manipulating, we have that\n",
        "$$b = \\frac{N(N-2a)}{2(N-a)},$$\n",
        "which must be a positive integer. Note that this expression must be satisfied to be a solution. However, it does not garantee to be a solution.\n",
        "\n",
        "Nevertheless, we have substantially reduced the number of possibilities to check."
      ],
      "metadata": {
        "id": "25yrtICwhMXv"
      }
    },
    {
      "cell_type": "code",
      "execution_count": 1,
      "metadata": {
        "colab": {
          "base_uri": "https://localhost:8080/"
        },
        "id": "GDRZ7ZPQdAHz",
        "outputId": "66b23ac0-74a7-4e34-dedb-a3338324b375"
      },
      "outputs": [
        {
          "output_type": "stream",
          "name": "stdout",
          "text": [
            "a = 200 b = 375 c = 425\n",
            "31875000\n"
          ]
        }
      ],
      "source": [
        "N = 1000\n",
        "for a in range(1,int(N/2)):\n",
        "  if N*(N-2*a)%(2*(N-a))==0:\n",
        "    b = int(N*(N-2*a)/(2*(N-a)))\n",
        "    c = N - a - b\n",
        "    if (a*a+b*b == c*c)&(a <= b):\n",
        "      print('a =',a,'b =',b,'c =',c)\n",
        "      print(a*b*c)"
      ]
    }
  ]
}