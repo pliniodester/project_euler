{
  "nbformat": 4,
  "nbformat_minor": 0,
  "metadata": {
    "colab": {
      "name": "004.ipynb",
      "provenance": [],
      "authorship_tag": "ABX9TyNKfZskNdS3dpjFJbWQFxhe",
      "include_colab_link": true
    },
    "kernelspec": {
      "name": "python3",
      "display_name": "Python 3"
    },
    "language_info": {
      "name": "python"
    }
  },
  "cells": [
    {
      "cell_type": "markdown",
      "metadata": {
        "id": "view-in-github",
        "colab_type": "text"
      },
      "source": [
        "<a href=\"https://colab.research.google.com/github/pliniodester/project_euler/blob/main/004.ipynb\" target=\"_parent\"><img src=\"https://colab.research.google.com/assets/colab-badge.svg\" alt=\"Open In Colab\"/></a>"
      ]
    },
    {
      "cell_type": "markdown",
      "source": [
        "### **Problem 4 - Largest palindrome product**\n",
        "\n",
        "A palindromic number reads the same both ways. The largest palindrome made from the product of two $2$-digit numbers is $$9009 = 91 \\times 99.$$\n",
        "\n",
        "Find the largest palindrome made from the product of two $3$-digit numbers."
      ],
      "metadata": {
        "id": "wNDfOF0UQLQA"
      }
    },
    {
      "cell_type": "code",
      "source": [
        "import numpy as np\n",
        "import math\n",
        "\n",
        "# function that verifies if n is a palindrome\n",
        "def is_pal(n):\n",
        "  n_str = str(n)\n",
        "  if n_str == n_str[::-1]: # compare the string of n with the flipped one\n",
        "    return True\n",
        "  else:\n",
        "    return False"
      ],
      "metadata": {
        "id": "CkZlWYyi4cvf"
      },
      "execution_count": 8,
      "outputs": []
    },
    {
      "cell_type": "code",
      "execution_count": 34,
      "metadata": {
        "colab": {
          "base_uri": "https://localhost:8080/"
        },
        "id": "1G-uzvi5UQel",
        "outputId": "7758f946-3380-4ffc-cb08-1c2f647b7246"
      },
      "outputs": [
        {
          "output_type": "stream",
          "name": "stdout",
          "text": [
            "906609\n"
          ]
        }
      ],
      "source": [
        "import numpy as np\n",
        "\n",
        "vec = [i*j for i in range(100,1000) for j in range(i,1000)]\n",
        "vec.sort(reverse=True)\n",
        "for n in vec:\n",
        "  if is_pal(n):\n",
        "    break\n",
        "print(n)"
      ]
    }
  ]
}