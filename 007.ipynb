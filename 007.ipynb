{
  "nbformat": 4,
  "nbformat_minor": 0,
  "metadata": {
    "colab": {
      "name": "007.ipynb",
      "provenance": [],
      "authorship_tag": "ABX9TyM9r2ogi43Pn+X6hZEf3TUH",
      "include_colab_link": true
    },
    "kernelspec": {
      "name": "python3",
      "display_name": "Python 3"
    },
    "language_info": {
      "name": "python"
    }
  },
  "cells": [
    {
      "cell_type": "markdown",
      "metadata": {
        "id": "view-in-github",
        "colab_type": "text"
      },
      "source": [
        "<a href=\"https://colab.research.google.com/github/pliniodester/project_euler/blob/main/007.ipynb\" target=\"_parent\"><img src=\"https://colab.research.google.com/assets/colab-badge.svg\" alt=\"Open In Colab\"/></a>"
      ]
    },
    {
      "cell_type": "markdown",
      "source": [
        "### **Problem 7 - 10001st prime**\n",
        "\n",
        "By listing the first six prime numbers: $2$, $3$, $5$, $7$, $11$, and $13$, we can see that the 6th prime is $13$.\n",
        "\n",
        "What is the 10 001st prime number?"
      ],
      "metadata": {
        "id": "wNDfOF0UQLQA"
      }
    },
    {
      "cell_type": "code",
      "source": [
        "def find_next_prime(primes):\n",
        "  n = primes[-1]+2\n",
        "  while True:\n",
        "    flag = 0\n",
        "    for p in primes:\n",
        "      if n%p==0:\n",
        "        flag = 1\n",
        "        break\n",
        "    if flag == 0:\n",
        "      return n\n",
        "    else:\n",
        "      n += 2"
      ],
      "metadata": {
        "id": "j-J4n2-Ma_XU"
      },
      "execution_count": 13,
      "outputs": []
    },
    {
      "cell_type": "code",
      "execution_count": 15,
      "metadata": {
        "colab": {
          "base_uri": "https://localhost:8080/"
        },
        "id": "Yi1TB9jUZovS",
        "outputId": "3c78fa7f-b5aa-4a2a-acf7-eb5222814027"
      },
      "outputs": [
        {
          "output_type": "stream",
          "name": "stdout",
          "text": [
            "104743\n"
          ]
        }
      ],
      "source": [
        "primes = [2,3]\n",
        "while len(primes) < 10001:\n",
        "  primes.append(find_next_prime(primes))\n",
        "print(primes[-1])"
      ]
    }
  ]
}