{
  "nbformat": 4,
  "nbformat_minor": 0,
  "metadata": {
    "colab": {
      "name": "005.ipynb",
      "provenance": [],
      "authorship_tag": "ABX9TyNJa/JCXyd8iGrWAjRcRiTG",
      "include_colab_link": true
    },
    "kernelspec": {
      "name": "python3",
      "display_name": "Python 3"
    },
    "language_info": {
      "name": "python"
    }
  },
  "cells": [
    {
      "cell_type": "markdown",
      "metadata": {
        "id": "view-in-github",
        "colab_type": "text"
      },
      "source": [
        "<a href=\"https://colab.research.google.com/github/pliniodester/project_euler/blob/main/005.ipynb\" target=\"_parent\"><img src=\"https://colab.research.google.com/assets/colab-badge.svg\" alt=\"Open In Colab\"/></a>"
      ]
    },
    {
      "cell_type": "markdown",
      "source": [
        "### **Problem 5 - Smallest multiple**\n",
        "\n",
        "$2520$ is the smallest number that can be divided by each of the numbers from $1$ to $10$ without any remainder.\n",
        "\n",
        "What is the smallest positive number that is evenly divisible by all of the numbers from $1$ to $20$?"
      ],
      "metadata": {
        "id": "wNDfOF0UQLQA"
      }
    },
    {
      "cell_type": "code",
      "source": [
        "# Greatest common divisor\n",
        "def gcd(n,m):\n",
        "  x = min(n,m)\n",
        "  while (n%x!=0)|(m%x!=0):\n",
        "    x-=1\n",
        "  return x\n",
        "\n",
        "# Least common multiple\n",
        "def lcm(n,m):\n",
        "  return int(n*m/gcd(n,m))"
      ],
      "metadata": {
        "id": "ZLSHj8J_Q2au"
      },
      "execution_count": 20,
      "outputs": []
    },
    {
      "cell_type": "code",
      "execution_count": 24,
      "metadata": {
        "colab": {
          "base_uri": "https://localhost:8080/"
        },
        "id": "ecRSq4uVE2k1",
        "outputId": "8e482155-7e2c-4043-9499-e92469d13986"
      },
      "outputs": [
        {
          "output_type": "stream",
          "name": "stdout",
          "text": [
            "232792560\n"
          ]
        }
      ],
      "source": [
        "divisors = range(2,20+1)\n",
        "\n",
        "n = 1\n",
        "for x in divisors:\n",
        "  n = lcm(n,x)\n",
        "print(n)"
      ]
    }
  ]
}